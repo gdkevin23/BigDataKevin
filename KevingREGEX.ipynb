{
 "cells": [
  {
   "cell_type": "code",
   "execution_count": 32,
   "metadata": {},
   "outputs": [
    {
     "name": "stdout",
     "output_type": "stream",
     "text": [
      "['javier.orrillo@outlook.com', 'segundo.orrillo@thebearsoft.com', 'leite.oliveira@gmail.com', 'rafael.oliveira@thebearsoft.com', 'ricardo.delcastanher@thebearsoft.com', 'stenio.joseph@thebearsoft.com', 'fili.valetk@gmail.com', 'filiberto.valetk@thebearsoft.com', 'm.zalynas@gmail.com', 'matias.zalynas@thebearsoft.com', 'enrique.sime@thebearsoft.com', 'altieres.schincariol@thebearsoft.com', 'jhonatan.pulgarin@encora.com', 'jhonatan.pulgarin@thebearsoft.com', 'herrera.mesen@gmail.com', 'manuel.herrera@thebearsoft.com', 'humberto.arana@thebearsoft.com', 'abel.martell@thebearsoft.com', 'freddy.feria@thebearsoft.com', 'daniel.cleto@thebearsoft.com', 'daniel.cleto@thebearsoft.com', 'maximiliano.delgado@thebearsoft.com', 'johan.quintana@thebearsoft.com', 'andres.castillo@thebearsoft.com', 'edgar.ysabel@thebearsoft.com', 'gerson.aguirre@thebearsoft.com', 'jose.mori@thebearsoft.com', 'kevin.barahona@avantica.net', 'kevin.barahona@thebearsoft.com', 'maguilamo.c@gmail.com', 'manuel.guilamo@thebearsoft.com', 'victore.brizzi@gmail.com', 'victor.brizzi@thebearsoft.com', 'washington.quillupangui@thebearsoft.com', 'brayan.bustillos@thebearsoft.com', 'dariel.cruz@thebearsoft.com', 'emiliano.kohmann@thebearsoft.com', 'ernesto.delossantos@encora.com', 'ernesto.cordero@thebearsoft.com', 'federico.balbuena@thebearsoft.com', 'felipe.rojasg@gmail.com', 'felipe.rojas@thebearsoft.com', 'horacio.galdamez21@gmaim.com', 'horacio.galdamez@thebearsoft.com', 'Ivan.alburquerque@encora.com', 'ivan.alburquerque@thebearsoft.com', 'bryam.pacco@gmail.com', 'john.pacco@thebearsoft.com', 'lucas.dossantos@thebearsoft.com', 'lucas.mari@thebearsoft.com', 'mariel.sack@thebearsoft.com', 'max.macalupu@thebearsoft.com', 'miguel.calderon@thebearsoft.com', 'rhonny.g@live.com', 'rhonny.gonzalez@thebearsoft.com', 'roger.mejia@thebearsoft.com', 'santiago.dalmas@thebearsoft.com', 'santiago.pitluk@thebearsoft.com', 'salvador.gonzalez@thebearsoft.com', 'sebastian.salvo@gmail.com', 'sebastian.salvo@thebearsoft.com', 'victor.pena@thebearsoft.com', 'walter.derezende@thebearsoft.com', 'carlos.huerta@gmail.com', 'carlos.huerta@thebearsoft.com', 'johanna.santos@thebearsoft.com', 'jose.torres@encora.com', 'jose.torres@thebearsoft.com', 'laercio.serra@gmail.com', 'laercio.serra@thebearsoft.com', 'maria.martinez@thebearsoft.com', 'matias.aguirre@thebearsoft.com', 'mefit.hernandez@thebearsoft.com', 'martin.rios@encora.com', 'martin.rios@thebearsoft.com', 'Enmanuel.Reyes@encora.com', 'enmanuel.reyes@thebearsoft.com', 'eduard.avendano@thebearsoft.com']\n"
     ]
    }
   ],
   "source": [
    "import re\n",
    "import os\n",
    "os.chdir(\"C:/Users/User/Clase_Big_data/CorreosTXT\")\n",
    "file=open(\"data.txt\", \"r\")\n",
    "txt=file.read()\n",
    "\n",
    "\n",
    "def emails(data):\n",
    "    return re.findall('\\S+@\\S+')\n",
    "emails=extract_email(txt)\n",
    "print(emails)"
   ]
  }
 ],
 "metadata": {
  "kernelspec": {
   "display_name": "base",
   "language": "python",
   "name": "python3"
  },
  "language_info": {
   "codemirror_mode": {
    "name": "ipython",
    "version": 3
   },
   "file_extension": ".py",
   "mimetype": "text/x-python",
   "name": "python",
   "nbconvert_exporter": "python",
   "pygments_lexer": "ipython3",
   "version": "3.9.12 (main, Apr  4 2022, 05:22:27) [MSC v.1916 64 bit (AMD64)]"
  },
  "orig_nbformat": 4,
  "vscode": {
   "interpreter": {
    "hash": "f08154012ddadd8e950e6e9e035c7a7b32c136e7647e9b7c77e02eb723a8bedb"
   }
  }
 },
 "nbformat": 4,
 "nbformat_minor": 2
}
